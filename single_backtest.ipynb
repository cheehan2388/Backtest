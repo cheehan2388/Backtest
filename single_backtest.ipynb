{
 "cells": [
  {
   "cell_type": "code",
   "execution_count": null,
   "id": "1fb91d58",
   "metadata": {},
   "outputs": [],
   "source": [
    "import pandas as pd\n",
    "import numpy as np\n",
    "\n",
    "\n",
    "def calculate_sortino_ratio(\n",
    "    returns: pd.Series, risk_free_rate: float = 0.0, annualization_factor: int = 365\n",
    "):\n",
    "    \"\"\"\n",
    "    Calculate the annualized Sortino Ratio from a pandas Series of returns.\n",
    "\n",
    "    Parameters:\n",
    "    - returns: pd.Series of periodic returns (e.g. daily)\n",
    "    - risk_free_rate: optional, in same period units as returns (e.g. 0.0 for daily, 0.01/252 for 1% annual)\n",
    "    - annualization_factor: 252 for daily, 12 for monthly, etc.\n",
    "\n",
    "    Returns:\n",
    "    - Annualized Sortino Ratio (float)\n",
    "    \"\"\"\n",
    "    # Excess returns\n",
    "    excess_returns = returns - risk_free_rate\n",
    "\n",
    "    # Downside deviation (only negative excess returns)\n",
    "    downside_returns = excess_returns[excess_returns < 0]\n",
    "    downside_deviation = np.std(downside_returns, ddof=0)\n",
    "\n",
    "    # Mean excess return\n",
    "    mean_excess_return = excess_returns.mean()\n",
    "\n",
    "    # Raw Sortino Ratio\n",
    "    if downside_deviation == 0:\n",
    "        return np.inf if mean_excess_return > 0 else -np.inf\n",
    "\n",
    "    sortino = mean_excess_return / downside_deviation\n",
    "\n",
    "    # Annualize\n",
    "    return sortino * np.sqrt(annualization_factor)"
   ]
  },
  {
   "cell_type": "code",
   "execution_count": null,
   "id": "278ef059",
   "metadata": {},
   "outputs": [],
   "source": [
    "df = pd.read_csv(\"csv_path\")\n",
    "df"
   ]
  },
  {
   "cell_type": "code",
   "execution_count": null,
   "id": "621ba889",
   "metadata": {},
   "outputs": [],
   "source": [
    "rolling_window = 100\n",
    "# mean = df['close_pi'].mean()\n",
    "df[\"mean\"] = df[\"close_pi\"].rolling(window=rolling_window).mean()\n",
    "df[\"std\"] = df[\"close_pi\"].rolling(window=rolling_window).std()\n",
    "df[\"zscore\"] = (df[\"close_pi\"] - df[\"mean\"]) / df[\"std\"]\n",
    "df"
   ]
  },
  {
   "cell_type": "code",
   "execution_count": null,
   "id": "a737c9e4",
   "metadata": {},
   "outputs": [],
   "source": [
    "threshold = 1\n",
    "zscore = df[\"zscore\"].values\n",
    "len(zscore)"
   ]
  },
  {
   "cell_type": "code",
   "execution_count": null,
   "id": "907280e5",
   "metadata": {},
   "outputs": [],
   "source": [
    "# assign pos array with initial pos = 0\n",
    "pos = [0]\n",
    "long_trades = 0\n",
    "short_trades = 0\n",
    "# loop all zscore values\n",
    "for i in range(1, len(zscore)):\n",
    "    # current zscore more than threshold , pos = 1\n",
    "    if zscore[i] >= threshold:\n",
    "        pos.append(1)\n",
    "        if pos[-2] != pos[-1]:\n",
    "            long_trades += 1\n",
    "    # current zscore less than negative theshold , pos = -1\n",
    "    elif zscore[i] <= -threshold:\n",
    "        pos.append(-1)\n",
    "        if pos[-2] != pos[-1]:\n",
    "            short_trades += 1\n",
    "    # current zscore within theshold and negative threshold , pos = previous pos\n",
    "    else:\n",
    "        pos.append(pos[-1])\n",
    "\n",
    "df[\"pos\"] = pos\n",
    "df"
   ]
  },
  {
   "cell_type": "code",
   "execution_count": null,
   "id": "a6850d72",
   "metadata": {},
   "outputs": [],
   "source": [
    "# calculate return\n",
    "df[\"return\"] = df[\"close\"].pct_change()\n",
    "# get the previous pos to a new column\n",
    "df[\"pos_shift\"] = df[\"pos\"].shift(1)\n",
    "# calculate trades\n",
    "df[\"trades\"] = abs(df[\"pos\"] - df[\"pos_shift\"])\n",
    "# calculate pnl\n",
    "fees = 0.06\n",
    "df[\"pnl\"] = df[\"pos_shift\"] * df[\"return\"] - df[\"trades\"] * fees / 100\n",
    "df"
   ]
  },
  {
   "cell_type": "code",
   "execution_count": null,
   "id": "f9114048",
   "metadata": {},
   "outputs": [],
   "source": [
    "df[\"cumu\"] = df[\"pnl\"].cumsum()\n",
    "df[\"dd\"] = df[\"cumu\"] - df[\"pnl\"].cummax()\n",
    "\n",
    "sr = df[\"pnl\"].mean() / df[\"pnl\"].std() * np.sqrt(365 * 24)\n",
    "cr = df[\"pnl\"].mean() / abs(df[\"dd\"].min())\n",
    "sortino_ratio = calculate_sortino_ratio(df[\"pnl\"])\n",
    "number_of_trades = df[\"trades\"].sum()\n",
    "ar = df[\"pnl\"].mean() * 365"
   ]
  },
  {
   "cell_type": "code",
   "execution_count": null,
   "id": "e5bfadcd",
   "metadata": {},
   "outputs": [],
   "source": [
    "report = {\n",
    "    \"Rolling Window\": rolling_window,\n",
    "    \"Threshold\": threshold,\n",
    "    \"SR\": sr,\n",
    "    \"CR\": cr,\n",
    "    \"AR\": ar,\n",
    "    \"MDD\": df[\"dd\"].min(),\n",
    "    \"Sortino Ratio\": sortino_ratio,\n",
    "    \"Number of Trades\": number_of_trades,\n",
    "}\n",
    "report"
   ]
  }
 ],
 "metadata": {
  "kernelspec": {
   "display_name": "pypi_cybotrade",
   "language": "python",
   "name": "python3"
  },
  "language_info": {
   "codemirror_mode": {
    "name": "ipython",
    "version": 3
   },
   "file_extension": ".py",
   "mimetype": "text/x-python",
   "name": "python",
   "nbconvert_exporter": "python",
   "pygments_lexer": "ipython3",
   "version": "3.12.1"
  }
 },
 "nbformat": 4,
 "nbformat_minor": 5
}
